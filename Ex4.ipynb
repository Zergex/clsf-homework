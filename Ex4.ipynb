{
 "cells": [
  {
   "cell_type": "code",
   "execution_count": 2,
   "metadata": {
    "collapsed": false,
    "scrolled": true
   },
   "outputs": [
    {
     "name": "stdout",
     "output_type": "stream",
     "text": [
      "Наборов вопросов: 3187\n",
      "630800 540805\n",
      "342199 269926\n"
     ]
    }
   ],
   "source": [
    "import lxml.html\n",
    "import requests\n",
    "import itertools\n",
    "\n",
    "site = 'http://db.chgk.info'\n",
    "tours = []\n",
    "\n",
    "for i in range(0, 38):\n",
    "    response = requests.get(site + '/last?page=' + str(i))\n",
    "    tree = lxml.html.fromstring(response.text)\n",
    "    tours.append(tree.xpath('//td/a[@rel=\"nofollow\"]/@href'))\n",
    "    \n",
    "\n",
    "tours = list(itertools.chain.from_iterable(tours))    \n",
    "print('Наборов вопросов:', len(tours)) \n",
    "q = []\n",
    "a = []\n",
    "for i in range(len(tours)):\n",
    "    response = requests.get(site + tours[i])\n",
    "    tree = lxml.html.fromstring(response.text)\n",
    "    q.append(tree.xpath('//div[@class=\"question\"]/p/text()'))\n",
    "    a.append(tree.xpath('//div/p[strong[@class=\"Answer\"]]/text()'))\n",
    "\n",
    "q = list(itertools.chain.from_iterable(q))\n",
    "a = list(itertools.chain.from_iterable(a))\n",
    "\n",
    "\n",
    "print(len(q), len(a))\n",
    "questions = []\n",
    "answers = []\n",
    "for i in range(len(q)):\n",
    "    if (q[i].strip('\\n').strip())=='':\n",
    "        pass\n",
    "    else:\n",
    "        questions.append(q[i].strip())\n",
    "        \n",
    "for i in range(len(a)):\n",
    "    if (a[i].strip('\\n').strip())=='':\n",
    "        pass\n",
    "    else:\n",
    "        answers.append(a[i].strip())\n",
    "        \n",
    "print(len(questions), len(answers))\n",
    "\n",
    "\n",
    "fq = open('questions.txt', 'w', encoding=\"utf-8\")\n",
    "for i in range(len(questions)):\n",
    "    fq.write(questions[i]+'\\n\\n')\n",
    "\n",
    "fq.close()\n",
    "\n",
    "fa = open('answers.txt', 'w', encoding=\"utf-8\")    \n",
    "for i in range(len(answers)):\n",
    "    fa.write(answers[i]+'\\n\\n')\n",
    "             \n",
    "fa.close()\n",
    "\n",
    "#не понимаю, почему не совпадает число пакетов вопросов.\n",
    "#числа в самом низу показывают количество вопросов и ответов... \n",
    "#...после \"чистки\" основного списка от мусора вроде '' или '\\n' и лишних пробелов\n",
    "#Это показывает, почему я предпочел не делать вывод в формате \"вопрос-ответ\",\n",
    "#т.к. число \"вопросов\" и \"ответов\" не совпадает. Не совпадают эти числа и с данным на сайте\n",
    "#Объясняется это тем, что парсер не совершенный, и элементы, разделенные тегом <br>\n",
    "#записывает как отдельные элементы списка, хотя принадлежат к одному тегу <p>\n",
    "#Также некоторые вопросы находятся непосредственно в <div> вместо <p>, поэтому их включить не удалось, хотя ответы к ним получить можно."
   ]
  }
 ],
 "metadata": {
  "kernelspec": {
   "display_name": "Python 3",
   "language": "python",
   "name": "python3"
  },
  "language_info": {
   "codemirror_mode": {
    "name": "ipython",
    "version": 3
   },
   "file_extension": ".py",
   "mimetype": "text/x-python",
   "name": "python",
   "nbconvert_exporter": "python",
   "pygments_lexer": "ipython3",
   "version": "3.5.2"
  }
 },
 "nbformat": 4,
 "nbformat_minor": 0
}
