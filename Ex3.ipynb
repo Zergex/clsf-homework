{
 "cells": [
  {
   "cell_type": "markdown",
   "metadata": {
    "collapsed": true
   },
   "source": [
    "# Данные \n",
    "В некотором *городе N* на каждом автобусе/троллейбусе/трамвае установлены GPS трекеры, которые с некоторым промежутком времени передают информацию о своем местоположении на специальный сервер. \n",
    "\n",
    "Данные для всех транспортных средства одного маршрута непрерывно записывались на протяжении недели, потом GPS координаты (широта и долгота) были спроецированы на плоскость с использованием [проекции Меркатора](https://ru.wikipedia.org/wiki/%D0%9F%D1%80%D0%BE%D0%B5%D0%BA%D1%86%D0%B8%D1%8F_%D0%9C%D0%B5%D1%80%D0%BA%D0%B0%D1%82%D0%BE%D1%80%D0%B0) и некоторого линейного преобразования. Эти данные записаны в файле **../data/transport_log.zip** в виде:\n",
    "\n",
    ">    **1447037729**&nbsp;&nbsp;&lt;tab&gt;&nbsp;&nbsp;**3054.619968**&nbsp;&nbsp;&lt;tab&gt;&nbsp;&nbsp;**2409.828279**&nbsp;&nbsp;&lt;tab&gt;&nbsp;&nbsp;**570d8**\n",
    "\n",
    "поля разделены табуляцией. Здесь:\n",
    "- **1447037729** - [UNIX-время](https://ru.wikipedia.org/wiki/UNIX-%D0%B2%D1%80%D0%B5%D0%BC%D1%8F), которое без труда можно преобразовать во что-то разумное с помощью стандартной библиотеки [Python](https://docs.python.org/2/library/datetime.html#datetime.date.fromtimestamp).\n",
    "- **3054.619968** - координата \"x\"\n",
    "- **2409.828279** - координата \"y\"\n",
    "- **570d8** - уникальный идентификатор транспортного средства, от которого получен сигнал. \n",
    "\n",
    "Маршрут автобосов \"туда\" не совпадает с маршрутом \"обратно\". Известно, что в направлении, которое мы назовем \"туда\"  первая остановка имеет координаты:\n",
    "\n",
    ">   **(11038.08464497, 8253.17542416)**\n",
    "\n",
    "последняя:\n",
    "\n",
    ">   **(283.08479678,  163.45489494)**\n"
   ]
  },
  {
   "cell_type": "markdown",
   "metadata": {},
   "source": [
    "# Задачи"
   ]
  },
  {
   "cell_type": "markdown",
   "metadata": {},
   "source": [
    "- Отобразить все точки на плоскости"
   ]
  },
  {
   "cell_type": "code",
   "execution_count": 2,
   "metadata": {
    "collapsed": false
   },
   "outputs": [
    {
     "data": {
      "image/png": "[encoded data removed]",
      "text/plain": [
       "<matplotlib.figure.Figure at 0xae1f160>"
      ]
     },
     "metadata": {},
     "output_type": "display_data"
    }
   ],
   "source": [
    "import numpy as np\n",
    "import zipfile\n",
    "import io\n",
    "import matplotlib.pyplot as plt\n",
    "import seaborn as sns\n",
    "\n",
    "%matplotlib inline\n",
    "\n",
    "with zipfile.ZipFile('../data/transport_log.zip', 'r') as zf:\n",
    "    with zf.open('transport_log.txt', 'r') as f:\n",
    "        fu = io.TextIOWrapper(f, 'utf-8')\n",
    "        x = []\n",
    "        y = []\n",
    "        for line in fu:\n",
    "            x.append(float(line.split()[1]))\n",
    "            y.append(float(line.split()[2]))\n",
    "\n",
    "plt.plot(x, y, '.')\n",
    "plt.show()\n",
    "            \n",
    "        \n",
    "       \n",
    "        \n",
    "        \n",
    "        "
   ]
  },
  {
   "cell_type": "markdown",
   "metadata": {},
   "source": [
    "- Отобразить в bar plot зависимость числа точек от часа (0-23). По оси \"X\" столбцы с метками 0-23, по оси \"Y\" - число соответствующих точек в логе."
   ]
  },
  {
   "cell_type": "code",
   "execution_count": 7,
   "metadata": {
    "collapsed": false
   },
   "outputs": [
    {
     "data": {
      "text/plain": [
       "<Container object of 24 artists>"
      ]
     },
     "execution_count": 7,
     "metadata": {},
     "output_type": "execute_result"
    },
    {
     "data": {
      "image/png": "[encoded data removed]",
      "text/plain": [
       "<matplotlib.figure.Figure at 0xb21c358>"
      ]
     },
     "metadata": {},
     "output_type": "display_data"
    }
   ],
   "source": [
    "import numpy as np\n",
    "import zipfile\n",
    "import io\n",
    "import matplotlib.pyplot as plt\n",
    "import seaborn as sns\n",
    "import datetime\n",
    "\n",
    "%matplotlib inline\n",
    "\n",
    "with zipfile.ZipFile('../data/transport_log.zip', 'r') as zf:\n",
    "    with zf.open('transport_log.txt', 'r') as f:\n",
    "        fu = io.TextIOWrapper(f, 'utf-8')\n",
    "        hours = []\n",
    "        for line in fu:\n",
    "            hours.append((datetime.datetime.fromtimestamp(int(line.split()[0]))).hour)\n",
    "            \n",
    "hrs = np.arange(0, 24)\n",
    "hrs.resize(2, 24)\n",
    "hrs1=hrs[0]\n",
    "for i in range (0, len(hrs[1])):\n",
    "    for j in range (0, len(hours)):\n",
    "        if hours[j]==hrs1[i]:\n",
    "            hrs[1][i]=hrs[1][i]+1\n",
    "            \n",
    "\n",
    "plt.bar(hrs[0], hrs[1])\n"
   ]
  },
  {
   "cell_type": "markdown",
   "metadata": {},
   "source": [
    "- Выделить из лога подпоследовательности, соответствующие гарантировано полным маршрутам в направлении \"туда\". То есть автобус должен пройти первую остановку с обозначенными выше координатами, затем последнюю."
   ]
  },
  {
   "cell_type": "code",
   "execution_count": null,
   "metadata": {
    "collapsed": true
   },
   "outputs": [],
   "source": []
  },
  {
   "cell_type": "markdown",
   "metadata": {},
   "source": [
    "- По данным из предыдущего пункта построить приближенный маршрут в виде кусочно-линейно функции, причем линейные компоненты должны иметь одинаковую длину. Отобразить таким образом, чтобы каждый участок имел цвет в зависимости от средней скорости прохождения участка. "
   ]
  },
  {
   "cell_type": "code",
   "execution_count": null,
   "metadata": {
    "collapsed": true
   },
   "outputs": [],
   "source": []
  }
 ],
 "metadata": {
  "kernelspec": {
   "display_name": "Python 3",
   "language": "python",
   "name": "python3"
  },
  "language_info": {
   "codemirror_mode": {
    "name": "ipython",
    "version": 3
   },
   "file_extension": ".py",
   "mimetype": "text/x-python",
   "name": "python",
   "nbconvert_exporter": "python",
   "pygments_lexer": "ipython3",
   "version": "3.5.2"
  }
 },
 "nbformat": 4,
 "nbformat_minor": 0
}
