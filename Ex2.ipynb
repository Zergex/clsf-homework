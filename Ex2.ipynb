{
 "cells": [
  {
   "cell_type": "code",
   "execution_count": 1,
   "metadata": {
    "collapsed": false
   },
   "outputs": [],
   "source": [
    "import numpy as np\n",
    "import scipy as sp\n",
    "import matplotlib.pyplot as plt\n",
    "import seaborn as sns\n",
    "\n",
    "%matplotlib inline"
   ]
  },
  {
   "cell_type": "markdown",
   "metadata": {},
   "source": [
    "# 1. Работа с массивами NumPy"
   ]
  },
  {
   "cell_type": "markdown",
   "metadata": {},
   "source": [
    "**N. Все упражнения ниже нужно делать без использования циклов Python**\n",
    "\n",
    "**1.** Cоздать вектор\n",
    "\n",
    "$$(2, \\frac{2^2}{2}, \\ldots, \\frac{2^{20}}{20})$$\n",
    "\n",
    "Можно использовать функции [np.arange()](http://docs.scipy.org/doc/numpy/reference/generated/numpy.arange.html), [np.ones()](http://docs.scipy.org/doc/numpy/reference/generated/numpy.ones.html)"
   ]
  },
  {
   "cell_type": "code",
   "execution_count": 7,
   "metadata": {
    "collapsed": false
   },
   "outputs": [
    {
     "name": "stdout",
     "output_type": "stream",
     "text": [
      "[  2.00000000e+00   2.00000000e+00   2.66666667e+00   4.00000000e+00\n",
      "   6.40000000e+00   1.06666667e+01   1.82857143e+01   3.20000000e+01\n",
      "   5.68888889e+01   1.02400000e+02   1.86181818e+02   3.41333333e+02\n",
      "   6.30153846e+02   1.17028571e+03   2.18453333e+03   4.09600000e+03\n",
      "   7.71011765e+03   1.45635556e+04   2.75941053e+04   5.24288000e+04]\n"
     ]
    }
   ],
   "source": [
    "## your code\n",
    "deg = np.arange(1, 21, 1)\n",
    "twos = np.ones(20)*2\n",
    "vec = (twos**deg)/deg\n",
    "print(vec)"
   ]
  },
  {
   "cell_type": "markdown",
   "metadata": {},
   "source": [
    "**2.** Посчитать:\n",
    "\n",
    "$$\\sum\\limits_{i=0}^{5}{0.1^{3i}0.2^{4i}}$$\n"
   ]
  },
  {
   "cell_type": "code",
   "execution_count": 6,
   "metadata": {
    "collapsed": false
   },
   "outputs": [
    {
     "name": "stdout",
     "output_type": "stream",
     "text": [
      "1.0000016\n"
     ]
    }
   ],
   "source": [
    "## your code\n",
    "i = np.arange(0, 6, 1)\n",
    "fst = np.ones(6)*0.1\n",
    "snd = np.ones(6)*0.2\n",
    "forsum = (fst**(3*i))*(snd**(4*i))\n",
    "print(forsum.sum())"
   ]
  },
  {
   "cell_type": "markdown",
   "metadata": {},
   "source": [
    "**3.** Создать нулевую матрицe $8 \\times 8$, и заполнить её единицами в шахматном порядке."
   ]
  },
  {
   "cell_type": "code",
   "execution_count": 122,
   "metadata": {
    "collapsed": false
   },
   "outputs": [
    {
     "name": "stdout",
     "output_type": "stream",
     "text": [
      "[[ 1.  0.  1.  0.  1.  0.  1.  0.]\n",
      " [ 0.  1.  0.  1.  0.  1.  0.  1.]\n",
      " [ 1.  0.  1.  0.  1.  0.  1.  0.]\n",
      " [ 0.  1.  0.  1.  0.  1.  0.  1.]\n",
      " [ 1.  0.  1.  0.  1.  0.  1.  0.]\n",
      " [ 0.  1.  0.  1.  0.  1.  0.  1.]\n",
      " [ 1.  0.  1.  0.  1.  0.  1.  0.]\n",
      " [ 0.  1.  0.  1.  0.  1.  0.  1.]]\n"
     ]
    }
   ],
   "source": [
    "## your code\n",
    "zrs=np.zeros((8, 8)) #создал нулевую матрицу 8х8\n",
    "ons=np.ones(64).reshape(8, 8)\n",
    "mat=np.arange(1,65).reshape(8, 8)\n",
    "\n",
    "i = np.arange(0, 8).reshape(8, 1)\n",
    "chessones=((mat+ons*i)%2) #создал матрицу с нулями и единицами в шахматном порядке\n",
    "\n",
    "print(zrs+chessones) #заполнил нулевую матрицу \"единицами в шахматном порядке\"\n",
    "\n"
   ]
  },
  {
   "cell_type": "markdown",
   "metadata": {},
   "source": [
    "**4.** Есть 5 точек в декартовой системе координат (в виде матрицы $X$ размерностью $5 \\times 2$), сконвертируйте эти точки в полярную систему координат."
   ]
  },
  {
   "cell_type": "code",
   "execution_count": 9,
   "metadata": {
    "collapsed": false
   },
   "outputs": [
    {
     "name": "stdout",
     "output_type": "stream",
     "text": [
      "Декартовы:\n",
      " [[ 0.89689533  0.50508138]\n",
      " [ 0.36757036  0.82753567]\n",
      " [ 0.56456398  0.28741753]\n",
      " [ 0.24039754  0.40097836]\n",
      " [ 0.67456775  0.31384167]]\n",
      "Полярные:\n",
      " [[ 1.02933397  1.05791766]\n",
      " [ 0.90549613  0.41799901]\n",
      " [ 0.63351505  1.09989805]\n",
      " [ 0.46751965  0.54007197]\n",
      " [ 0.74400151  1.13533431]]\n"
     ]
    }
   ],
   "source": [
    "X = np.random.random((5, 2))\n",
    "\n",
    "## your code\n",
    "print('Декартовы:\\n',X)\n",
    "r=((X[:,0])**2+(X[:,1])**2)**(0.5)\n",
    "phi=np.arctan2((X[:,0]),(X[:,1]))\n",
    "polar=np.column_stack((r, phi))\n",
    "print('Полярные:\\n',polar)"
   ]
  },
  {
   "cell_type": "markdown",
   "metadata": {},
   "source": [
    "**5.** Найдите индексы максимального элемента в случайной матрице $10 \\times 10$.\n",
    "\n",
    "Cм. [np.argmax()](http://docs.scipy.org/doc/numpy/reference/generated/numpy.argmax.html)."
   ]
  },
  {
   "cell_type": "code",
   "execution_count": 16,
   "metadata": {
    "collapsed": false
   },
   "outputs": [
    {
     "name": "stdout",
     "output_type": "stream",
     "text": [
      "[[ 0.89809903  0.4669317   0.69232921  0.94008656  0.65235059  0.53152328\n",
      "   0.94803237  0.13014097  0.89954666  0.08186956]\n",
      " [ 0.07234164  0.3506625   0.94667028  0.67498919  0.4141433   0.06586614\n",
      "   0.10340034  0.28076857  0.97380216  0.4237926 ]\n",
      " [ 0.16681572  0.00449683  0.66290951  0.16239053  0.39667242  0.35929931\n",
      "   0.20495613  0.02993383  0.53906417  0.76962457]\n",
      " [ 0.17945615  0.07437351  0.0196415   0.57567386  0.62539299  0.24425841\n",
      "   0.19514087  0.73817713  0.7122989   0.91993277]\n",
      " [ 0.20552958  0.54472039  0.37489165  0.89446414  0.7365081   0.50186273\n",
      "   0.60359997  0.17502023  0.21303024  0.63448197]\n",
      " [ 0.28227399  0.64007709  0.98289018  0.16313033  0.32889658  0.67198545\n",
      "   0.12082235  0.08887806  0.76036     0.40328687]\n",
      " [ 0.92879422  0.95516248  0.50550211  0.26937337  0.23828046  0.65942254\n",
      "   0.89733578  0.78223318  0.37370791  0.95681617]\n",
      " [ 0.91693804  0.74457311  0.06020781  0.95229171  0.39358786  0.53761967\n",
      "   0.41517633  0.90256536  0.1663044   0.26705743]\n",
      " [ 0.67544609  0.06564699  0.39309797  0.76957338  0.26529589  0.98413862\n",
      "   0.69358155  0.97741654  0.87250154  0.26182692]\n",
      " [ 0.72852413  0.6033418   0.33356903  0.48127443  0.7711255   0.99109196\n",
      "   0.78386531  0.85850834  0.8470104   0.02410536]]\n",
      "( 10 строка, 6 элемент) (Индексация производится с единицы)\n"
     ]
    }
   ],
   "source": [
    "X = np.random.random((10, 10))\n",
    "\n",
    "## your code\n",
    "print(X)\n",
    "ind=np.argmax(X)\n",
    "print('(',(ind//10)+1,'строка,',(ind%10)+1,'элемент) (Индексация производится с единицы)')"
   ]
  },
  {
   "cell_type": "markdown",
   "metadata": {},
   "source": [
    "**6.** Есть 10 точек ($X$) и ещё одна ($y$). Найти в $X$ ближайшую к $y$ точку."
   ]
  },
  {
   "cell_type": "code",
   "execution_count": 109,
   "metadata": {
    "collapsed": false
   },
   "outputs": [
    {
     "name": "stdout",
     "output_type": "stream",
     "text": [
      "[ 0.56942362  0.71485435]\n"
     ]
    }
   ],
   "source": [
    "X = np.random.random((10, 2))\n",
    "y = np.random.random((1, 2))\n",
    "\n",
    "## your code\n",
    "dist=((((X[:,0]-X[:,1])**2)+((y[0,0]-y[0,1])**2))**(0.5))\n",
    "m=np.argmin(dist)\n",
    "print(X[m])"
   ]
  },
  {
   "cell_type": "markdown",
   "metadata": {},
   "source": [
    "**7.** Дана функция:\n",
    "\n",
    "$$\n",
    " \\begin{cases}\n",
    "    x^2 + 2x + 6, & x < 0  \\\\\n",
    "    x + 6, & 0 \\le x \\le 2 \\\\\n",
    "    x^2 + 4x - 4, & x \\ge 2\n",
    " \\end{cases}\n",
    "$$\n",
    "\n",
    "Постройте массив из её значений на  $-3 \\le x \\le 3$."
   ]
  },
  {
   "cell_type": "code",
   "execution_count": 163,
   "metadata": {
    "collapsed": false
   },
   "outputs": [
    {
     "name": "stdout",
     "output_type": "stream",
     "text": [
      "[  9.     8.61   8.24   7.89   7.56   7.25   6.96   6.69   6.44   6.21   6.\n",
      "   5.81   5.64   5.49   5.36   5.25   5.16   5.09   5.04   5.01   5.     5.01\n",
      "   5.04   5.09   5.16   5.25   5.36   5.49   5.64   5.81   6.     6.1    6.2\n",
      "   6.3    6.4    6.5    6.6    6.7    6.8    6.9    7.     7.1    7.2    7.3\n",
      "   7.4    7.5    7.6    7.7    7.8    7.9    8.     8.81   9.64  10.49\n",
      "  11.36  12.25  13.16  14.09  15.04  16.01  17.    18.01  19.04  20.09\n",
      "  21.16  22.25  23.36  24.49  25.64  26.81]\n"
     ]
    }
   ],
   "source": [
    "## your code\n",
    "@np.vectorize\n",
    "def f(x):\n",
    "    if x<0:\n",
    "        return x**2 + 2*x + 6\n",
    "    if x>=0 and x<=2:\n",
    "        return x + 6\n",
    "    if x>2:\n",
    "        return x**2 + 4*x - 4\n",
    "    \n",
    "\n",
    "m=np.arange(-3, 4, 0.1)\n",
    "mas=f(m)\n",
    "print(mas)"
   ]
  },
  {
   "cell_type": "markdown",
   "metadata": {},
   "source": [
    "**8.** Из каждого элемента матрицы вычесть среднее арифметическое от всех элементов в соответствующей строке (после чего среднее значение каждой строки должно равняться нулю).\n",
    "\n",
    "Cм. [np.mean()](http://docs.scipy.org/doc/numpy/reference/generated/numpy.mean.html)."
   ]
  },
  {
   "cell_type": "code",
   "execution_count": 142,
   "metadata": {
    "collapsed": false
   },
   "outputs": [
    {
     "name": "stdout",
     "output_type": "stream",
     "text": [
      "[[ -6.66133815e-17]\n",
      " [ -4.44089210e-17]\n",
      " [  1.22124533e-16]\n",
      " [  5.55111512e-17]\n",
      " [  0.00000000e+00]\n",
      " [  1.11022302e-17]\n",
      " [  0.00000000e+00]\n",
      " [  5.55111512e-17]\n",
      " [  3.33066907e-17]\n",
      " [ -4.44089210e-17]]\n"
     ]
    }
   ],
   "source": [
    "X = np.random.random((10, 10))\n",
    "\n",
    "## your code\n",
    "m=np.mean(X, axis=1).reshape(10,1)\n",
    "NX=X-m\n",
    "nm=np.mean(NX, axis=1).reshape(10,1)\n",
    "print(nm) #погрешности округлений, наверное"
   ]
  },
  {
   "cell_type": "markdown",
   "metadata": {},
   "source": [
    "**9.** Есть массив из 1000 чисел, полученных из генератора случайных чисел, имеющий нормальное распределение. Посчитайте выборочное среднее и выборочную дисперсию. "
   ]
  },
  {
   "cell_type": "code",
   "execution_count": 145,
   "metadata": {
    "collapsed": false
   },
   "outputs": [
    {
     "name": "stdout",
     "output_type": "stream",
     "text": [
      "4.99389292312 4.01125132136\n"
     ]
    }
   ],
   "source": [
    "X = np.random.normal(loc=5, scale=2., size=1000)\n",
    "\n",
    "sred = np.sum(X)/np.size(X)\n",
    "disp = (np.sum((X-sred)**2))/np.size(X)\n",
    "print(sred, disp)"
   ]
  },
  {
   "cell_type": "markdown",
   "metadata": {},
   "source": [
    "**10.** Создать матрицу:\n",
    "\n",
    "$$\n",
    "\\begin{pmatrix}\n",
    "0 & 1 & 2 & 3 & 4 \\\\\n",
    "1 & 2 & 3 & 4 & 0 \\\\\n",
    "2 & 3 & 4 & 0 & 1 \\\\\n",
    "3 & 4 & 0 & 1 & 2 \\\\\n",
    "4 & 0 & 1 & 2 & 3\n",
    "\\end{pmatrix}\n",
    "$$"
   ]
  },
  {
   "cell_type": "code",
   "execution_count": 118,
   "metadata": {
    "collapsed": false
   },
   "outputs": [
    {
     "name": "stdout",
     "output_type": "stream",
     "text": [
      "[[ 0.  1.  2.  3.  4.]\n",
      " [ 1.  2.  3.  4.  0.]\n",
      " [ 2.  3.  4.  0.  1.]\n",
      " [ 3.  4.  0.  1.  2.]\n",
      " [ 4.  0.  1.  2.  3.]]\n"
     ]
    }
   ],
   "source": [
    "## your code\n",
    "mat=np.arange(0,25).reshape(5, 5)\n",
    "i = np.arange(0, 5).reshape(5, 1)\n",
    "ons = np.ones(25).reshape(5, 5)\n",
    "print((mat+ons*i)%5)"
   ]
  }
 ],
 "metadata": {
  "kernelspec": {
   "display_name": "Python 3",
   "language": "python",
   "name": "python3"
  },
  "language_info": {
   "codemirror_mode": {
    "name": "ipython",
    "version": 3
   },
   "file_extension": ".py",
   "mimetype": "text/x-python",
   "name": "python",
   "nbconvert_exporter": "python",
   "pygments_lexer": "ipython3",
   "version": "3.5.2"
  }
 },
 "nbformat": 4,
 "nbformat_minor": 0
}
